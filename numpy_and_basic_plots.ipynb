{
  "nbformat": 4,
  "nbformat_minor": 0,
  "metadata": {
    "colab": {
      "name": "Untitled2.ipynb",
      "provenance": [],
      "authorship_tag": "ABX9TyM6H0mNm+cceu5HloW3RIe+",
      "include_colab_link": true
    },
    "kernelspec": {
      "name": "python3",
      "display_name": "Python 3"
    }
  },
  "cells": [
    {
      "cell_type": "markdown",
      "metadata": {
        "id": "view-in-github",
        "colab_type": "text"
      },
      "source": [
        "<a href=\"https://colab.research.google.com/github/jtracos/intro_python_for_data/blob/main/numpy_and_basic_plots.ipynb\" target=\"_parent\"><img src=\"https://colab.research.google.com/assets/colab-badge.svg\" alt=\"Open In Colab\"/></a>"
      ]
    },
    {
      "cell_type": "markdown",
      "metadata": {
        "id": "YGMxWgX4HJj7"
      },
      "source": [
        "# Intro a numpy"
      ]
    },
    {
      "cell_type": "code",
      "metadata": {
        "id": "EpOOsxJcHQW5"
      },
      "source": [
        "import numpy as np\n",
        "import pandas as pd\n",
        "import matplotlib.pyplot as plt"
      ],
      "execution_count": 2,
      "outputs": []
    },
    {
      "cell_type": "markdown",
      "metadata": {
        "id": "M9bylOdwO29R"
      },
      "source": [
        "## Vectores y matrices"
      ]
    },
    {
      "cell_type": "markdown",
      "metadata": {
        "id": "dcOvxisvHi0X"
      },
      "source": [
        "con numpy puedes crear vectores y matrices de multiples dimensiones"
      ]
    },
    {
      "cell_type": "code",
      "metadata": {
        "id": "S9NbZz8LHHNj",
        "outputId": "a19610f7-5edf-4731-f1fe-afed7417d2ef",
        "colab": {
          "base_uri": "https://localhost:8080/",
          "height": 106
        }
      },
      "source": [
        "array = np.array([1,2,3,4]) # vector con 4 elementos\n",
        "matriz = np.array([[1,2,3,4],[5,6,7,8]]) #matriz de 4x4\n",
        "print(\"vector:\\n{}\".format(array))\n",
        "print(\"matriz:\\n {}\".format(matriz))"
      ],
      "execution_count": 7,
      "outputs": [
        {
          "output_type": "stream",
          "text": [
            "vector:\n",
            "[1 2 3 4]\n",
            "matriz:\n",
            " [[1 2 3 4]\n",
            " [5 6 7 8]]\n"
          ],
          "name": "stdout"
        }
      ]
    },
    {
      "cell_type": "code",
      "metadata": {
        "id": "np_0lZIqHhGW",
        "outputId": "3ad302d2-9408-4a55-9e21-063114a59bf1",
        "colab": {
          "base_uri": "https://localhost:8080/",
          "height": 106
        }
      },
      "source": [
        "#matriz de 4x4\n",
        "matriz = np.arange(1,17)\n",
        "matriz = matriz.reshape((4,4))\n",
        "print(\"matriz:\\n {}\".format(matriz))"
      ],
      "execution_count": 13,
      "outputs": [
        {
          "output_type": "stream",
          "text": [
            "matriz:\n",
            " [[ 1  2  3  4]\n",
            " [ 5  6  7  8]\n",
            " [ 9 10 11 12]\n",
            " [13 14 15 16]]\n"
          ],
          "name": "stdout"
        }
      ]
    },
    {
      "cell_type": "markdown",
      "metadata": {
        "id": "O1OUdNHzJNpN"
      },
      "source": [
        "un producto de matrices puede ser\n",
        "\n",
        "elemento a elemento o un producto matricial. En este caso se usa em metodo **np.dot**"
      ]
    },
    {
      "cell_type": "code",
      "metadata": {
        "id": "cATDDN1VI0R3",
        "outputId": "e6563397-aef3-4d7c-a739-eebd3951e9c0",
        "colab": {
          "base_uri": "https://localhost:8080/",
          "height": 160
        }
      },
      "source": [
        "A = np.array([[1,2,3,4],[4,3,2,1]])#matriz de 2x4\n",
        "B =np.array([[1,-1],[0,1],[-1,0],[0,0]])#matriz de 4x2\n",
        "print(\"A=\\n {}\".format(A))\n",
        "print(\"B=\\n {}\".format(B))"
      ],
      "execution_count": 17,
      "outputs": [
        {
          "output_type": "stream",
          "text": [
            "A=\n",
            " [[1 2 3 4]\n",
            " [4 3 2 1]]\n",
            "B=\n",
            " [[ 1 -1]\n",
            " [ 0  1]\n",
            " [-1  0]\n",
            " [ 0  0]]\n"
          ],
          "name": "stdout"
        }
      ]
    },
    {
      "cell_type": "markdown",
      "metadata": {
        "id": "lVnP3OqSNKUf"
      },
      "source": [
        "el producto elemento a elemento funciona solo con los objectos y funciones de numpy(se le llama **broadcasting**), como:"
      ]
    },
    {
      "cell_type": "code",
      "metadata": {
        "id": "1HrGTNiiKW2f",
        "outputId": "b52a9024-d4a6-4383-cd3b-c83d82eaff19",
        "colab": {
          "base_uri": "https://localhost:8080/",
          "height": 71
        }
      },
      "source": [
        "C = A*B.T #A por la transpuesta de B(mismas dimensiones)\n",
        "print(\"C=\\n {}\".format(C))"
      ],
      "execution_count": 19,
      "outputs": [
        {
          "output_type": "stream",
          "text": [
            "C=\n",
            " [[ 1  0 -3  0]\n",
            " [-4  3  0  0]]\n"
          ],
          "name": "stdout"
        }
      ]
    },
    {
      "cell_type": "markdown",
      "metadata": {
        "id": "LfgW6m6kMM_z"
      },
      "source": [
        "Para el producto matricial se emplea **np.dot**, como"
      ]
    },
    {
      "cell_type": "code",
      "metadata": {
        "id": "ZMmygIgxMCPv",
        "outputId": "8ab2b097-a2df-4c12-80df-72a9056029ce",
        "colab": {
          "base_uri": "https://localhost:8080/",
          "height": 71
        }
      },
      "source": [
        "D = A.dot(B) # matriz de 2x2. Tambien np.dot(A,B)\n",
        "print(\"D=\\n {}\".format(D))"
      ],
      "execution_count": 23,
      "outputs": [
        {
          "output_type": "stream",
          "text": [
            "D=\n",
            " [[-2  1]\n",
            " [ 2 -1]]\n"
          ],
          "name": "stdout"
        }
      ]
    },
    {
      "cell_type": "markdown",
      "metadata": {
        "id": "khXSXiiaM7aq"
      },
      "source": [
        "## Operaciones sobre ejes"
      ]
    },
    {
      "cell_type": "markdown",
      "metadata": {
        "id": "LA6hmgsmNPHS"
      },
      "source": [
        "Las operaciones por ejes existen en diversas funciones de numpy"
      ]
    },
    {
      "cell_type": "code",
      "metadata": {
        "id": "hL_SH9IbMfUC",
        "outputId": "493d56fe-1ff0-42a9-bd54-59a6227d8b1a",
        "colab": {
          "base_uri": "https://localhost:8080/",
          "height": 53
        }
      },
      "source": [
        "sum_rows = A.sum(axis=0) #suma los valores por renglón\n",
        "print(\"suma por renglones: \\n {}\".format(sum_rows))#las salidas son 5 valores, igual al numero de renglones de A"
      ],
      "execution_count": 29,
      "outputs": [
        {
          "output_type": "stream",
          "text": [
            "suma por renglones: \n",
            " [5 5 5 5]\n"
          ],
          "name": "stdout"
        }
      ]
    },
    {
      "cell_type": "code",
      "metadata": {
        "id": "jkx4NpXsMlAw",
        "outputId": "a7c1dccd-98f3-4c60-fe41-d1ce3a6a02c4",
        "colab": {
          "base_uri": "https://localhost:8080/",
          "height": 53
        }
      },
      "source": [
        "sum_cols = A.sum(axis=1) #suma los valores por columna\n",
        "print(\"suma por renglones: \\n {}\".format(sum_cols))#las salidas son 2 valores, igual al numero de columnas de A"
      ],
      "execution_count": 30,
      "outputs": [
        {
          "output_type": "stream",
          "text": [
            "suma por renglones: \n",
            " [10 10]\n"
          ],
          "name": "stdout"
        }
      ]
    },
    {
      "cell_type": "code",
      "metadata": {
        "id": "t159_8DbO9Gg",
        "outputId": "e3fcaeb4-38be-4625-b69e-51735b261d3e",
        "colab": {
          "base_uri": "https://localhost:8080/",
          "height": 53
        }
      },
      "source": [
        "suma = A.sum() #sin argumentos suma todos los valores\n",
        "print(\"suma=\\n {}\".format(suma))"
      ],
      "execution_count": 31,
      "outputs": [
        {
          "output_type": "stream",
          "text": [
            "suma=\n",
            " 20\n"
          ],
          "name": "stdout"
        }
      ]
    },
    {
      "cell_type": "markdown",
      "metadata": {
        "id": "rnha2zmpOr9x"
      },
      "source": [
        "Esto funciona con **np.mean** y otras funciones"
      ]
    },
    {
      "cell_type": "markdown",
      "metadata": {
        "id": "zTzGxfMCPVeq"
      },
      "source": [
        "#Gráficos "
      ]
    },
    {
      "cell_type": "markdown",
      "metadata": {
        "id": "4Ug0DVe8Peyd"
      },
      "source": [
        "Para esto se usa __matplotlib__"
      ]
    },
    {
      "cell_type": "code",
      "metadata": {
        "id": "cQz71Es6OXuW",
        "outputId": "8515819f-c6bb-4e18-a00a-a8fd193e9137",
        "colab": {
          "base_uri": "https://localhost:8080/",
          "height": 483
        }
      },
      "source": [
        "x = np.linspace(0,20,17)\n",
        "b = 3\n",
        "y = 2*x + b + 4*np.random.normal(size=x.shape)\n",
        "\n",
        "#graficas\n",
        "fig = plt.figure(figsize=(8,8)) # configuración de lienzo para la grafica\n",
        "plt.scatter(x,y,c=\"r\",linewidths=\"2\",label=\"obsevaciones\")\n",
        "plt.grid()\n",
        "_ = plt.show()"
      ],
      "execution_count": 48,
      "outputs": [
        {
          "output_type": "display_data",
          "data": {
            "image/png": "[encoded data removed]",
            "text/plain": [
              "<Figure size 576x576 with 1 Axes>"
            ]
          },
          "metadata": {
            "tags": [],
            "needs_background": "light"
          }
        }
      ]
    },
    {
      "cell_type": "markdown",
      "metadata": {
        "id": "L1ioybaZQz-C"
      },
      "source": [
        "numpy cuenta con varios submodulos, usaremos **np.polyfit**, que ajusta un modelo lineal a vectores de entrada"
      ]
    },
    {
      "cell_type": "code",
      "metadata": {
        "id": "TnutsxEGQO5Q",
        "outputId": "5679bd16-cf4f-4d33-a05f-6c6175ef7634",
        "colab": {
          "base_uri": "https://localhost:8080/",
          "height": 35
        }
      },
      "source": [
        "m,b_0 = np.polyfit(x,y,deg = 1)\n",
        "print(\"m:{}\\t b:{}\".format(m,b_0))"
      ],
      "execution_count": 49,
      "outputs": [
        {
          "output_type": "stream",
          "text": [
            "m:2.2131764050427503\t b:2.807656521002896\n"
          ],
          "name": "stdout"
        }
      ]
    },
    {
      "cell_type": "markdown",
      "metadata": {
        "id": "bcfe-YUER9Z-"
      },
      "source": [
        "Esto genera los coeficientes ajustados, utiles para graficar:"
      ]
    },
    {
      "cell_type": "code",
      "metadata": {
        "id": "3Wklv6DERUf3",
        "outputId": "337b9699-e748-4e83-e5fe-093b2b16c684",
        "colab": {
          "base_uri": "https://localhost:8080/",
          "height": 483
        }
      },
      "source": [
        "x_r =np.array([x.min(),x.max()])\n",
        "y_r = m*x_r +b_0 #recta ajustada\n",
        "\n",
        "fig = plt.figure(figsize=(8,8)) # configuración de lienzo para la grafica\n",
        "plt.scatter(x,y,c=\"r\",linewidths=\"2\",label=\"obsevacriones\")\n",
        "plt.plot(x_r,y_r,label=\"recta ajustada\\npendiente: {}\".format(m))\n",
        "plt.legend()\n",
        "plt.grid()\n",
        "_ = plt.show()"
      ],
      "execution_count": 66,
      "outputs": [
        {
          "output_type": "display_data",
          "data": {
            "image/png": "[encoded data removed]",
            "text/plain": [
              "<Figure size 576x576 with 1 Axes>"
            ]
          },
          "metadata": {
            "tags": [],
            "needs_background": "light"
          }
        }
      ]
    },
    {
      "cell_type": "code",
      "metadata": {
        "id": "pED_cfR4SYiZ"
      },
      "source": [
        ""
      ],
      "execution_count": null,
      "outputs": []
    }
  ]
}
{
  "nbformat": 4,
  "nbformat_minor": 0,
  "metadata": {
    "colab": {
      "name": "Untitled0.ipynb",
      "provenance": [],
      "toc_visible": true,
      "authorship_tag": "ABX9TyM+/Q4gGxwrdcsjSYZUWSzT",
      "include_colab_link": true
    },
    "kernelspec": {
      "name": "python3",
      "display_name": "Python 3"
    }
  },
  "cells": [
    {
      "cell_type": "markdown",
      "metadata": {
        "id": "view-in-github",
        "colab_type": "text"
      },
      "source": [
        "<a href=\"https://colab.research.google.com/github/jtracos/intro_python_for_data/blob/main/Carga_de_datos_pandas.ipynb\" target=\"_parent\"><img src=\"https://colab.research.google.com/assets/colab-badge.svg\" alt=\"Open In Colab\"/></a>"
      ]
    },
    {
      "cell_type": "code",
      "metadata": {
        "id": "vAlg8selfXeU"
      },
      "source": [
        "import numpy as np \n",
        "import matplotlib.pyplot as plt\n",
        "import pandas as pd"
      ],
      "execution_count": 1,
      "outputs": []
    },
    {
      "cell_type": "markdown",
      "metadata": {
        "id": "2Bx0wHA-gpWd"
      },
      "source": [
        "## Estructura de datos\n"
      ]
    },
    {
      "cell_type": "code",
      "metadata": {
        "id": "YEEKWGyRf-8-",
        "outputId": "db8cb554-cff9-4cd8-a31a-e71ca6bde826",
        "colab": {
          "base_uri": "https://localhost:8080/",
          "height": 34
        }
      },
      "source": [
        "#listas\n",
        "a =[1,4,5,'a']\n",
        "a"
      ],
      "execution_count": null,
      "outputs": [
        {
          "output_type": "execute_result",
          "data": {
            "text/plain": [
              "[1, 4, 5, 'a']"
            ]
          },
          "metadata": {
            "tags": []
          },
          "execution_count": 2
        }
      ]
    },
    {
      "cell_type": "code",
      "metadata": {
        "id": "jbCH7BjHh-Aw",
        "outputId": "2efe3ba1-c31e-4e6b-d4b0-e47c06432b1f",
        "colab": {
          "base_uri": "https://localhost:8080/",
          "height": 34
        }
      },
      "source": [
        "a.append('HOLA,ELSY :)')\n",
        "a"
      ],
      "execution_count": null,
      "outputs": [
        {
          "output_type": "execute_result",
          "data": {
            "text/plain": [
              "[1, 4, 5, 'a', 'HOLA,ELSY :)']"
            ]
          },
          "metadata": {
            "tags": []
          },
          "execution_count": 6
        }
      ]
    },
    {
      "cell_type": "code",
      "metadata": {
        "id": "2sqNRWBSjTcD",
        "outputId": "c668426c-9651-4395-df9a-6d0d92ea5869",
        "colab": {
          "base_uri": "https://localhost:8080/",
          "height": 34
        }
      },
      "source": [
        "len(a)"
      ],
      "execution_count": null,
      "outputs": [
        {
          "output_type": "execute_result",
          "data": {
            "text/plain": [
              "5"
            ]
          },
          "metadata": {
            "tags": []
          },
          "execution_count": 7
        }
      ]
    },
    {
      "cell_type": "code",
      "metadata": {
        "id": "KqHrTPpakZN-"
      },
      "source": [
        "b = [a, 'Estamos perdidas']"
      ],
      "execution_count": null,
      "outputs": []
    },
    {
      "cell_type": "code",
      "metadata": {
        "id": "m8HN6eSBkurX",
        "outputId": "122d3928-3f10-41c5-86c9-f140371e409a",
        "colab": {
          "base_uri": "https://localhost:8080/",
          "height": 34
        }
      },
      "source": [
        "b"
      ],
      "execution_count": null,
      "outputs": [
        {
          "output_type": "execute_result",
          "data": {
            "text/plain": [
              "[[1, 4, 5, 'a', 'HOLA,ELSY :)'], 'Estamos perdidas']"
            ]
          },
          "metadata": {
            "tags": []
          },
          "execution_count": 11
        }
      ]
    },
    {
      "cell_type": "code",
      "metadata": {
        "id": "EciGNZ-YkxWv",
        "outputId": "e46af737-eb25-482a-8857-5ce4a80eacb6",
        "colab": {
          "base_uri": "https://localhost:8080/",
          "height": 34
        }
      },
      "source": [
        "len(b)"
      ],
      "execution_count": null,
      "outputs": [
        {
          "output_type": "execute_result",
          "data": {
            "text/plain": [
              "2"
            ]
          },
          "metadata": {
            "tags": []
          },
          "execution_count": 12
        }
      ]
    },
    {
      "cell_type": "code",
      "metadata": {
        "id": "zwoFjA3OlP_J",
        "outputId": "1351e51d-5521-400e-f8e9-f0faea1e87c3",
        "colab": {
          "base_uri": "https://localhost:8080/",
          "height": 34
        }
      },
      "source": [
        "b[0]\n"
      ],
      "execution_count": null,
      "outputs": [
        {
          "output_type": "execute_result",
          "data": {
            "text/plain": [
              "[1, 4, 5, 'a', 'HOLA,ELSY :)']"
            ]
          },
          "metadata": {
            "tags": []
          },
          "execution_count": 16
        }
      ]
    },
    {
      "cell_type": "code",
      "metadata": {
        "id": "i92k344OlcJy",
        "outputId": "9334b6f8-2b81-453b-8a74-9fd3474d1b00",
        "colab": {
          "base_uri": "https://localhost:8080/",
          "height": 36
        }
      },
      "source": [
        "b[1]"
      ],
      "execution_count": null,
      "outputs": [
        {
          "output_type": "execute_result",
          "data": {
            "application/vnd.google.colaboratory.intrinsic+json": {
              "type": "string"
            },
            "text/plain": [
              "'Estamos perdidas'"
            ]
          },
          "metadata": {
            "tags": []
          },
          "execution_count": 14
        }
      ]
    },
    {
      "cell_type": "code",
      "metadata": {
        "id": "IZektM7olf0_",
        "outputId": "17a7a44c-d694-4619-fff9-98549b0151a0",
        "colab": {
          "base_uri": "https://localhost:8080/",
          "height": 34
        }
      },
      "source": [
        "a"
      ],
      "execution_count": null,
      "outputs": [
        {
          "output_type": "execute_result",
          "data": {
            "text/plain": [
              "[1, 4, 5, 'a', 'HOLA,ELSY :)']"
            ]
          },
          "metadata": {
            "tags": []
          },
          "execution_count": 15
        }
      ]
    },
    {
      "cell_type": "code",
      "metadata": {
        "id": "ApLD2goKnDwt"
      },
      "source": [
        "x,y,z = 1,2,5"
      ],
      "execution_count": null,
      "outputs": []
    },
    {
      "cell_type": "code",
      "metadata": {
        "id": "Jjzl40p6oQ5P",
        "outputId": "3dd139b5-bde5-4e63-c485-1ecaebc8611e",
        "colab": {
          "base_uri": "https://localhost:8080/",
          "height": 34
        }
      },
      "source": [
        "print(\"Hola mundo, estoy aburrido\")"
      ],
      "execution_count": null,
      "outputs": [
        {
          "output_type": "stream",
          "text": [
            "Hola mundo, estoy aburrido\n"
          ],
          "name": "stdout"
        }
      ]
    },
    {
      "cell_type": "code",
      "metadata": {
        "id": "3ck1bVWJpDyk",
        "outputId": "6c1d04a6-a842-4a29-808c-d56326fd7ae0",
        "colab": {
          "base_uri": "https://localhost:8080/",
          "height": 34
        }
      },
      "source": [
        "a"
      ],
      "execution_count": null,
      "outputs": [
        {
          "output_type": "execute_result",
          "data": {
            "text/plain": [
              "[1, 4, 5, 'a', 'HOLA,ELSY :)']"
            ]
          },
          "metadata": {
            "tags": []
          },
          "execution_count": 26
        }
      ]
    },
    {
      "cell_type": "code",
      "metadata": {
        "id": "k5LVNzH0ogWP",
        "outputId": "8227585a-6f90-4f23-e1a7-4a7c3acf9aaf",
        "colab": {
          "base_uri": "https://localhost:8080/",
          "height": 121
        }
      },
      "source": [
        "for idx in range(len(a)):\n",
        "  print(a[idx])\n",
        "print(\"Hemos terminado.\")"
      ],
      "execution_count": null,
      "outputs": [
        {
          "output_type": "stream",
          "text": [
            "1\n",
            "4\n",
            "5\n",
            "a\n",
            "HOLA,ELSY :)\n",
            "Hemos terminado.\n"
          ],
          "name": "stdout"
        }
      ]
    },
    {
      "cell_type": "code",
      "metadata": {
        "id": "6VKZQ2qkrB0h",
        "outputId": "f1f69a6d-00bf-4899-b307-67dfc6583f3b",
        "colab": {
          "base_uri": "https://localhost:8080/",
          "height": 34
        }
      },
      "source": [
        "vec = []\n",
        "for val in range(0,6):\n",
        "  vec.append(val)\n",
        "print(vec)"
      ],
      "execution_count": null,
      "outputs": [
        {
          "output_type": "stream",
          "text": [
            "[0, 1, 2, 3, 4, 5]\n"
          ],
          "name": "stdout"
        }
      ]
    },
    {
      "cell_type": "code",
      "metadata": {
        "id": "IEkoyZSLpfk2"
      },
      "source": [
        "vector = [val for val in range(6)]"
      ],
      "execution_count": null,
      "outputs": []
    },
    {
      "cell_type": "code",
      "metadata": {
        "id": "OiC93hpPpNco",
        "outputId": "ab8d73ce-41a9-4b16-c467-8fa4ca2d77c8",
        "colab": {
          "base_uri": "https://localhost:8080/",
          "height": 52
        }
      },
      "source": [
        "np.sin(vector)"
      ],
      "execution_count": null,
      "outputs": [
        {
          "output_type": "execute_result",
          "data": {
            "text/plain": [
              "array([ 0.        ,  0.84147098,  0.90929743,  0.14112001, -0.7568025 ,\n",
              "       -0.95892427])"
            ]
          },
          "metadata": {
            "tags": []
          },
          "execution_count": 50
        }
      ]
    },
    {
      "cell_type": "code",
      "metadata": {
        "id": "kKp-2K-Wq0ZS"
      },
      "source": [
        "#tuplas\n",
        "cosa_insignificante = (a,b, vector)"
      ],
      "execution_count": null,
      "outputs": []
    },
    {
      "cell_type": "code",
      "metadata": {
        "id": "x1xljJaHsZ2K",
        "outputId": "f7c9c6aa-bbb0-46e5-b7a0-779d46993f27",
        "colab": {
          "base_uri": "https://localhost:8080/",
          "height": 34
        }
      },
      "source": [
        "len(cosa_insignificante)"
      ],
      "execution_count": null,
      "outputs": [
        {
          "output_type": "execute_result",
          "data": {
            "text/plain": [
              "3"
            ]
          },
          "metadata": {
            "tags": []
          },
          "execution_count": 69
        }
      ]
    },
    {
      "cell_type": "code",
      "metadata": {
        "id": "MJqULI-MuAVu",
        "outputId": "bb5a36da-0a6e-46b9-8acd-2fccb06a517f",
        "colab": {
          "base_uri": "https://localhost:8080/",
          "height": 34
        }
      },
      "source": [
        "tupla[2]"
      ],
      "execution_count": null,
      "outputs": [
        {
          "output_type": "execute_result",
          "data": {
            "text/plain": [
              "[0, 1, 2, 3, 4, 5]"
            ]
          },
          "metadata": {
            "tags": []
          },
          "execution_count": 61
        }
      ]
    },
    {
      "cell_type": "code",
      "metadata": {
        "id": "KKV6i7DouE38"
      },
      "source": [
        "#diccionarios\n",
        "dic = {\n",
        "    \"nombres\":['Elsy','Josue'],\n",
        "    \"apellidos\":['T','T']\n",
        "}"
      ],
      "execution_count": null,
      "outputs": []
    },
    {
      "cell_type": "code",
      "metadata": {
        "id": "l3INdBZzu7Zi",
        "outputId": "2a011cec-0c82-4027-adfe-81f94dd08df8",
        "colab": {
          "base_uri": "https://localhost:8080/",
          "height": 34
        }
      },
      "source": [
        "dic.keys()"
      ],
      "execution_count": null,
      "outputs": [
        {
          "output_type": "execute_result",
          "data": {
            "text/plain": [
              "dict_keys(['nombres', 'apellidos'])"
            ]
          },
          "metadata": {
            "tags": []
          },
          "execution_count": 10
        }
      ]
    },
    {
      "cell_type": "code",
      "metadata": {
        "id": "vehmO1P_xHg_",
        "outputId": "c46c922d-bc61-48de-9ed1-9d8f28ba4e4d",
        "colab": {
          "base_uri": "https://localhost:8080/",
          "height": 34
        }
      },
      "source": [
        "dic.values()"
      ],
      "execution_count": null,
      "outputs": [
        {
          "output_type": "execute_result",
          "data": {
            "text/plain": [
              "dict_values([['Elsy', 'Josue'], ['T', 'T']])"
            ]
          },
          "metadata": {
            "tags": []
          },
          "execution_count": 12
        }
      ]
    },
    {
      "cell_type": "code",
      "metadata": {
        "id": "WlaX3EqIxO1T",
        "outputId": "f593889b-435e-450f-a35b-f71791cf08cf",
        "colab": {
          "base_uri": "https://localhost:8080/",
          "height": 34
        }
      },
      "source": [
        "dic_1 = {\"iteracion\":[],\n",
        "         'valor':[]\n",
        "         }\n",
        "         \n",
        "for idx,char in enumerate(['a','b','v','c']):\n",
        "  dic_1['iteracion'].append(idx)\n",
        "  dic_1['valor'].append(char)\n",
        "print(dic_1)"
      ],
      "execution_count": null,
      "outputs": [
        {
          "output_type": "stream",
          "text": [
            "{'iteracion': [0, 1, 2, 3], 'valor': ['a', 'b', 'v', 'c']}\n"
          ],
          "name": "stdout"
        }
      ]
    },
    {
      "cell_type": "code",
      "metadata": {
        "id": "qAQKwR_u4dBQ",
        "outputId": "717d34ed-02a2-4362-c0f1-544b7487cc37",
        "colab": {
          "base_uri": "https://localhost:8080/",
          "height": 34
        }
      },
      "source": [
        "print(dic_1['iteracion'])"
      ],
      "execution_count": null,
      "outputs": [
        {
          "output_type": "stream",
          "text": [
            "[0, 1, 2, 3]\n"
          ],
          "name": "stdout"
        }
      ]
    },
    {
      "cell_type": "code",
      "metadata": {
        "id": "cmEQXVS_yNLH",
        "outputId": "7d41d903-a396-4b2f-c696-0eb511c967b2",
        "colab": {
          "base_uri": "https://localhost:8080/",
          "height": 86
        }
      },
      "source": [
        "for line in enumerate(range(2,6)):\n",
        "  print(line)"
      ],
      "execution_count": null,
      "outputs": [
        {
          "output_type": "stream",
          "text": [
            "(0, 2)\n",
            "(1, 3)\n",
            "(2, 4)\n",
            "(3, 5)\n"
          ],
          "name": "stdout"
        }
      ]
    },
    {
      "cell_type": "markdown",
      "metadata": {
        "id": "njFZZFgzRu5f"
      },
      "source": [
        "# Load data"
      ]
    },
    {
      "cell_type": "markdown",
      "metadata": {
        "id": "ajpDelypTr76"
      },
      "source": [
        "<h4>sep es un separador o una expresión</h4>\n",
        "\n",
        "<h> \"\\s\" es un espacio de separación</h>\n",
        "\n",
        "<h> \"\\s+\" para mas de un espacio de separación</h>\n",
        "\n",
        "<h> \",\" es un separador de comas</h>"
      ]
    },
    {
      "cell_type": "code",
      "metadata": {
        "id": "32SaUjahyfEZ"
      },
      "source": [
        "data = pd.read_csv('data_name', sep=r'\\s+',engine='python',skiprows=17)"
      ],
      "execution_count": 3,
      "outputs": []
    },
    {
      "cell_type": "markdown",
      "metadata": {
        "id": "KDxOE8AzUhJD"
      },
      "source": [
        "read_csv lee el archivo de texto y lo guarda como un DataFrame, como:"
      ]
    },
    {
      "cell_type": "code",
      "metadata": {
        "id": "TA5WaNAgRqpL",
        "outputId": "e914a495-c4fa-44d1-db52-2f2f1b2fa9af",
        "colab": {
          "base_uri": "https://localhost:8080/",
          "height": 206
        }
      },
      "source": [
        "#muestra las primeras 5 entradas\n",
        "data.head()"
      ],
      "execution_count": 10,
      "outputs": [
        {
          "output_type": "execute_result",
          "data": {
            "text/html": [
              "<div>\n",
              "<style scoped>\n",
              "    .dataframe tbody tr th:only-of-type {\n",
              "        vertical-align: middle;\n",
              "    }\n",
              "\n",
              "    .dataframe tbody tr th {\n",
              "        vertical-align: top;\n",
              "    }\n",
              "\n",
              "    .dataframe thead th {\n",
              "        text-align: right;\n",
              "    }\n",
              "</style>\n",
              "<table border=\"1\" class=\"dataframe\">\n",
              "  <thead>\n",
              "    <tr style=\"text-align: right;\">\n",
              "      <th></th>\n",
              "      <th>FECHA</th>\n",
              "      <th>PRECIP</th>\n",
              "      <th>EVAP</th>\n",
              "      <th>TMAX</th>\n",
              "      <th>TMIN</th>\n",
              "    </tr>\n",
              "  </thead>\n",
              "  <tbody>\n",
              "    <tr>\n",
              "      <th>0</th>\n",
              "      <td>01/10/1948</td>\n",
              "      <td>27.4</td>\n",
              "      <td>2.5</td>\n",
              "      <td>27</td>\n",
              "      <td>20.3</td>\n",
              "    </tr>\n",
              "    <tr>\n",
              "      <th>1</th>\n",
              "      <td>02/10/1948</td>\n",
              "      <td>83.4</td>\n",
              "      <td>3.3</td>\n",
              "      <td>26</td>\n",
              "      <td>20.2</td>\n",
              "    </tr>\n",
              "    <tr>\n",
              "      <th>2</th>\n",
              "      <td>03/10/1948</td>\n",
              "      <td>164.8</td>\n",
              "      <td>\"NA\"</td>\n",
              "      <td>30</td>\n",
              "      <td>20.3</td>\n",
              "    </tr>\n",
              "    <tr>\n",
              "      <th>3</th>\n",
              "      <td>04/10/1948</td>\n",
              "      <td>60.8</td>\n",
              "      <td>1.6</td>\n",
              "      <td>27</td>\n",
              "      <td>21.9</td>\n",
              "    </tr>\n",
              "    <tr>\n",
              "      <th>4</th>\n",
              "      <td>05/10/1948</td>\n",
              "      <td>0.3</td>\n",
              "      <td>1.7</td>\n",
              "      <td>26</td>\n",
              "      <td>21</td>\n",
              "    </tr>\n",
              "  </tbody>\n",
              "</table>\n",
              "</div>"
            ],
            "text/plain": [
              "        FECHA PRECIP  EVAP TMAX  TMIN\n",
              "0  01/10/1948   27.4   2.5   27  20.3\n",
              "1  02/10/1948   83.4   3.3   26  20.2\n",
              "2  03/10/1948  164.8  \"NA\"   30  20.3\n",
              "3  04/10/1948   60.8   1.6   27  21.9\n",
              "4  05/10/1948    0.3   1.7   26    21"
            ]
          },
          "metadata": {
            "tags": []
          },
          "execution_count": 10
        }
      ]
    },
    {
      "cell_type": "markdown",
      "metadata": {
        "id": "-WZ50xd1U9AF"
      },
      "source": [
        "## Tu caso es:"
      ]
    },
    {
      "cell_type": "code",
      "metadata": {
        "id": "hx5ee3xKSxv0"
      },
      "source": [
        "data = pd.read_csv('arribos-02.txt', sep=',',names=['CODIGO', 'P','S'])"
      ],
      "execution_count": null,
      "outputs": []
    },
    {
      "cell_type": "markdown",
      "metadata": {
        "id": "mvk1e9j5VaDy"
      },
      "source": [
        "<h>names debe contener los nombres de cada columna</h>\n",
        "\n",
        "<h>ahora puedes visualizarlos</h>\n"
      ]
    },
    {
      "cell_type": "code",
      "metadata": {
        "id": "dbbgeFkFWSex"
      },
      "source": [
        "data.head()"
      ],
      "execution_count": null,
      "outputs": []
    },
    {
      "cell_type": "markdown",
      "metadata": {
        "id": "zxKd0eLBWl2W"
      },
      "source": [
        "<h>Para crear nuevos atributos(columna) basta con:</h>"
      ]
    },
    {
      "cell_type": "code",
      "metadata": {
        "id": "7w1bNqMTWi0x"
      },
      "source": [
        "data['Ts-Tp'] = data['S']-data['P']"
      ],
      "execution_count": null,
      "outputs": []
    },
    {
      "cell_type": "markdown",
      "metadata": {
        "id": "FtVzRYmsXLX9"
      },
      "source": [
        "Ahora visualiza tus datos"
      ]
    },
    {
      "cell_type": "code",
      "metadata": {
        "id": "lYtxWPxzXI9Z"
      },
      "source": [
        "from IPython.display import display #esto es solo para que se vea bonito\n",
        "display(data)"
      ],
      "execution_count": null,
      "outputs": []
    }
  ]
}
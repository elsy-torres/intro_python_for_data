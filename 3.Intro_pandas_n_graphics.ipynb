{
  "nbformat": 4,
  "nbformat_minor": 0,
  "metadata": {
    "colab": {
      "name": "Untitled6.ipynb",
      "provenance": [],
      "authorship_tag": "ABX9TyM8KlI13owWSIZLw7MRBC90",
      "include_colab_link": true
    },
    "kernelspec": {
      "name": "python3",
      "display_name": "Python 3"
    }
  },
  "cells": [
    {
      "cell_type": "markdown",
      "metadata": {
        "id": "view-in-github",
        "colab_type": "text"
      },
      "source": [
        "<a href=\"https://colab.research.google.com/github/jtracos/intro_python_for_data/blob/main/3.Intro_pandas_n_graphics.ipynb\" target=\"_parent\"><img src=\"https://colab.research.google.com/assets/colab-badge.svg\" alt=\"Open In Colab\"/></a>"
      ]
    },
    {
      "cell_type": "code",
      "metadata": {
        "id": "y735jNnkVES3"
      },
      "source": [
        "import matplotlib.pyplot as plt\n",
        "import pandas as pd\n",
        "import numpy as np"
      ],
      "execution_count": 22,
      "outputs": []
    },
    {
      "cell_type": "markdown",
      "metadata": {
        "id": "VTZ0YovnWQgJ"
      },
      "source": [
        "## Pandas essentials "
      ]
    },
    {
      "cell_type": "markdown",
      "metadata": {
        "id": "aO9PlnwxVR_j"
      },
      "source": [
        "### Hoja de datos en pandas"
      ]
    },
    {
      "cell_type": "code",
      "metadata": {
        "id": "ubAf7_klVPP4"
      },
      "source": [
        "data = np.random.randint(0,40, size=(100,3)) #datos\n",
        "df = pd.DataFrame(data=data, columns=[\"VAR 1\",\"VAR 2\",\"VAR 3\"]) #data frame\n",
        "from IPython.display import display # ignorar(es estetica)\n",
        "display(df.head(10))"
      ],
      "execution_count": null,
      "outputs": []
    },
    {
      "cell_type": "markdown",
      "metadata": {
        "id": "9c0Oq_B8ffPO"
      },
      "source": [
        "### estadisticas generales"
      ]
    },
    {
      "cell_type": "code",
      "metadata": {
        "id": "D-HjG7vCV7n5"
      },
      "source": [
        "#estadisticas básicas\n",
        "df.describe()"
      ],
      "execution_count": null,
      "outputs": []
    },
    {
      "cell_type": "code",
      "metadata": {
        "id": "J-lmnr8zWdxK"
      },
      "source": [
        "#informacion del contenido del data frame\n",
        "df.info()"
      ],
      "execution_count": null,
      "outputs": []
    },
    {
      "cell_type": "code",
      "metadata": {
        "id": "jHcRX7g-WldH"
      },
      "source": [
        "#tipos de datos de los atributos almacenados\n",
        "df.dtypes"
      ],
      "execution_count": null,
      "outputs": []
    },
    {
      "cell_type": "markdown",
      "metadata": {
        "id": "YuPvHPZTflBC"
      },
      "source": [
        "### seleccion de los datos(broadcasting)"
      ]
    },
    {
      "cell_type": "markdown",
      "metadata": {
        "id": "hAbWUYWfgf5c"
      },
      "source": [
        "Los datos se seleccionan mediante los indices y nombre de atributos"
      ]
    },
    {
      "cell_type": "code",
      "metadata": {
        "id": "3I2N4Gl_gV_3"
      },
      "source": [
        "#seleccion de datos\n",
        "print(df.loc[1:4])"
      ],
      "execution_count": null,
      "outputs": []
    },
    {
      "cell_type": "code",
      "metadata": {
        "id": "cD7jeGVCbj3X"
      },
      "source": [
        "#cambiar valores de entrada\n",
        "df.loc[3]=[np.nan,1.,1.]\n",
        "df.loc[4,\"VAR 2\"] = np.nan\n",
        "df.loc[5,\"VAR 3\"] = np.nan\n",
        "display(df.head(10))\n"
      ],
      "execution_count": null,
      "outputs": []
    },
    {
      "cell_type": "markdown",
      "metadata": {
        "id": "UDZfHNrhhZox"
      },
      "source": [
        "### manipulacion de los datos"
      ]
    },
    {
      "cell_type": "markdown",
      "metadata": {
        "id": "lTY4p4CAfq38"
      },
      "source": [
        "*.drop* para eliminar renglones o columnas por *indice* o *atributo*"
      ]
    },
    {
      "cell_type": "code",
      "metadata": {
        "id": "Vipe0Pp7WuHq"
      },
      "source": [
        "#elimina elementos por columna o renglos elegidos\n",
        "df = df.drop(\"VAR 3\", axis=1)\n",
        "display(df.head(10))"
      ],
      "execution_count": null,
      "outputs": []
    },
    {
      "cell_type": "code",
      "metadata": {
        "id": "U0wwKQaVXUst"
      },
      "source": [
        "#eliminar la entrada 0\n",
        "df = df.drop(0)\n",
        "display(df.head(10))"
      ],
      "execution_count": null,
      "outputs": []
    },
    {
      "cell_type": "code",
      "metadata": {
        "id": "RpgjdC4TaXl-"
      },
      "source": [
        "#eliminar los entradas con indice > 9\n",
        "df = df.drop(df.index[df.index<9])\n",
        "display(df.head(10))\n"
      ],
      "execution_count": null,
      "outputs": []
    },
    {
      "cell_type": "markdown",
      "metadata": {
        "id": "k0GEy5DdhpWR"
      },
      "source": [
        "`*.map*` permite aplicar reglas medianta funciones *lambda*"
      ]
    },
    {
      "cell_type": "code",
      "metadata": {
        "id": "WgIlo6gRcvdI"
      },
      "source": [
        "#funcion para clasificar los datos\n",
        "def select_classes(val):\n",
        "  if val < 10.:\n",
        "    clas = 0\n",
        "  elif val < 20.:\n",
        "    clas = 1\n",
        "  elif val < 30.:\n",
        "    clas = 2\n",
        "  else:\n",
        "    clas = 3\n",
        "  return clas"
      ],
      "execution_count": null,
      "outputs": []
    },
    {
      "cell_type": "code",
      "metadata": {
        "id": "-7aHi6nOduQU"
      },
      "source": [
        "#categorizacion de los datos\n",
        "df[\"CLASE VAR 2\"] = df[\"VAR 2\"].map(lambda x: select_classes(x))\n",
        "df"
      ],
      "execution_count": null,
      "outputs": []
    },
    {
      "cell_type": "markdown",
      "metadata": {
        "id": "zZMsP2XVmk-1"
      },
      "source": [
        "### graficos"
      ]
    },
    {
      "cell_type": "code",
      "metadata": {
        "id": "qGe_-a6sXmuH"
      },
      "source": [
        "def set_layout(figsize = (8,8)):\n",
        "  fig = plt.figure(figsize=figsize)\n",
        "def end_set():\n",
        "  plt.grid()\n",
        "  plt.legend()\n",
        "  _ = plt.show()"
      ],
      "execution_count": null,
      "outputs": []
    },
    {
      "cell_type": "code",
      "metadata": {
        "id": "QHp6yEwIW81N"
      },
      "source": [
        "set_layout()\n",
        "for name in df.columns:\n",
        "  plt.scatter(df.index,df[name], label=name)\n",
        "plt.xlabel(\"INDICE\")\n",
        "plt.ylabel(\"UNIDADES\")\n",
        "end_set()"
      ],
      "execution_count": null,
      "outputs": []
    },
    {
      "cell_type": "code",
      "metadata": {
        "id": "mKn1Q3b9nXn-"
      },
      "source": [
        "fig, ax = plt.subplots(1,2)\n",
        "fig.set_figheight(6)\n",
        "fig.set_figwidth(12)\n",
        "_ = ax[0].hist(df[\"VAR 1\"].values)\n",
        "_ = ax[1].hist(df[\"VAR 2\"].values)\n",
        "_ = plt.show()"
      ],
      "execution_count": null,
      "outputs": []
    },
    {
      "cell_type": "markdown",
      "metadata": {
        "id": "QgcjSkqupcUK"
      },
      "source": [
        "## arreglos de n dimensiones"
      ]
    },
    {
      "cell_type": "code",
      "metadata": {
        "id": "nLyGH7tJpbUd",
        "outputId": "a15a9f5c-85c1-4214-b760-8ac58484dd01",
        "colab": {
          "base_uri": "https://localhost:8080/",
          "height": 285
        }
      },
      "source": [
        "a = np.random.randint(-100,100,(4,3,2))\n",
        "a"
      ],
      "execution_count": 26,
      "outputs": [
        {
          "output_type": "execute_result",
          "data": {
            "text/plain": [
              "array([[[ 54,  -4],\n",
              "        [ 11,  25],\n",
              "        [ 34,  -3]],\n",
              "\n",
              "       [[ 97,  92],\n",
              "        [-16,  97],\n",
              "        [ 74, -48]],\n",
              "\n",
              "       [[ 20, -40],\n",
              "        [ 70,  18],\n",
              "        [-48, -19]],\n",
              "\n",
              "       [[ 69, -71],\n",
              "        [-91, -72],\n",
              "        [-60, -67]]])"
            ]
          },
          "metadata": {
            "tags": []
          },
          "execution_count": 26
        }
      ]
    },
    {
      "cell_type": "code",
      "metadata": {
        "id": "VYOwg-FapsJ5",
        "outputId": "44b3a774-c8b4-4791-a617-7208a524c797",
        "colab": {
          "base_uri": "https://localhost:8080/",
          "height": 71
        }
      },
      "source": [
        "a.sum(axis=0)"
      ],
      "execution_count": 27,
      "outputs": [
        {
          "output_type": "execute_result",
          "data": {
            "text/plain": [
              "array([[ 240,  -23],\n",
              "       [ -26,   68],\n",
              "       [   0, -137]])"
            ]
          },
          "metadata": {
            "tags": []
          },
          "execution_count": 27
        }
      ]
    },
    {
      "cell_type": "code",
      "metadata": {
        "id": "VEUKxhUmp78M",
        "outputId": "f7b293e3-9b73-4a09-d77b-f74284d6fa53",
        "colab": {
          "base_uri": "https://localhost:8080/",
          "height": 88
        }
      },
      "source": [
        "a.sum(axis=1)"
      ],
      "execution_count": 28,
      "outputs": [
        {
          "output_type": "execute_result",
          "data": {
            "text/plain": [
              "array([[  99,   18],\n",
              "       [ 155,  141],\n",
              "       [  42,  -41],\n",
              "       [ -82, -210]])"
            ]
          },
          "metadata": {
            "tags": []
          },
          "execution_count": 28
        }
      ]
    },
    {
      "cell_type": "code",
      "metadata": {
        "id": "U5C2dWrHqetb",
        "outputId": "60d7ad45-5308-4cf8-ddf9-75db39daf333",
        "colab": {
          "base_uri": "https://localhost:8080/",
          "height": 88
        }
      },
      "source": [
        "a.sum(axis=2)"
      ],
      "execution_count": 29,
      "outputs": [
        {
          "output_type": "execute_result",
          "data": {
            "text/plain": [
              "array([[  50,   36,   31],\n",
              "       [ 189,   81,   26],\n",
              "       [ -20,   88,  -67],\n",
              "       [  -2, -163, -127]])"
            ]
          },
          "metadata": {
            "tags": []
          },
          "execution_count": 29
        }
      ]
    },
    {
      "cell_type": "markdown",
      "metadata": {
        "id": "ae2wyqjTjAAt"
      },
      "source": [
        "#Anexos:"
      ]
    },
    {
      "cell_type": "markdown",
      "metadata": {
        "id": "1KIXnxTVjGyY"
      },
      "source": [
        "## funciones lambda"
      ]
    },
    {
      "cell_type": "markdown",
      "metadata": {
        "id": "pGXUi_GBjPDQ"
      },
      "source": [
        "sirve para la declaracion implicita de variables. Sintaxis simple"
      ]
    },
    {
      "cell_type": "code",
      "metadata": {
        "id": "7lQUaSxujNi6"
      },
      "source": [
        " aceptar = lambda x, umbral: True if x <= umbral else False"
      ],
      "execution_count": null,
      "outputs": []
    },
    {
      "cell_type": "code",
      "metadata": {
        "id": "w1HIy46-jD17"
      },
      "source": [
        "aceptar(40,20)"
      ],
      "execution_count": null,
      "outputs": []
    },
    {
      "cell_type": "markdown",
      "metadata": {
        "id": "mIJGOTCps8Eh"
      },
      "source": [
        "## declaracion de funciones"
      ]
    },
    {
      "cell_type": "markdown",
      "metadata": {
        "id": "5KqK2qURtDTT"
      },
      "source": [
        "La estructura basica de una función es muy sencilla\n",
        "\n",
        "`def nombre_funcion(entrada_1, entrada_2):`\n",
        "\n",
        "`. . instrucciones`\n",
        "\n",
        "`. . return output`\n",
        "\n",
        "La identación es vital en python.\n",
        "\n",
        " Ejemplo de funciones son `select_classes` o `set_layout`"
      ]
    }
  ]
}